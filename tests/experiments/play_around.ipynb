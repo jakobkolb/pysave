{
 "cells": [
  {
   "cell_type": "code",
   "execution_count": 2,
   "metadata": {},
   "outputs": [
    {
     "name": "stdout",
     "output_type": "stream",
     "text": [
      "done\n"
     ]
    }
   ],
   "source": [
    "# -*- coding: utf-8 -*-\n",
    "\"\"\"\n",
    "Spyder Editor\n",
    "\n",
    "This is a temporary script file.\n",
    "\"\"\"\n",
    "import getpass\n",
    "import os\n",
    "import pickle as cp\n",
    "import sys\n",
    "import time\n",
    "import itertools as it\n",
    "\n",
    "print \"done\"\n"
   ]
  },
  {
   "cell_type": "code",
   "execution_count": 5,
   "metadata": {},
   "outputs": [
    {
     "name": "stdout",
     "output_type": "stream",
     "text": [
      "key                                     mean_trajectory  sem_trajectory\n",
      "tau phi timesteps observables                                          \n",
      "1.0 0   0.0       C                            4.793231        0.121089\n",
      "                  P                            1.000000        0.000000\n",
      "                  Y                            0.000000        0.000000\n",
      "                  capital share of gdp         5.000000        0.000000\n",
      "                  consensus                    0.000000        0.000000\n"
     ]
    }
   ],
   "source": [
    "import networkx as nx\n",
    "import numpy as np\n",
    "import pandas as pd\n",
    "from random import uniform\n",
    "\n",
    "\n",
    "loc = '/home/yuki/Dropbox/Unizeugs/Fernuni/BA/code/pysave/experiments/output_data/X2/'\n",
    "name= 'parameter_scan_trajectory'\n",
    "x = np.load(loc+name)\n",
    "x = x.replace([np.inf, -np.inf], np.nan)\n",
    "dataframe = x.where(x < 10**300, np.nan).xs(level=['eps'], key=[0.0])\n",
    "print dataframe.head()"
   ]
  }
 ],
 "metadata": {
  "kernelspec": {
   "display_name": "Python 2",
   "language": "python",
   "name": "python2"
  },
  "language_info": {
   "codemirror_mode": {
    "name": "ipython",
    "version": 2
   },
   "file_extension": ".py",
   "mimetype": "text/x-python",
   "name": "python",
   "nbconvert_exporter": "python",
   "pygments_lexer": "ipython2",
   "version": "2.7.13"
  }
 },
 "nbformat": 4,
 "nbformat_minor": 2
}
