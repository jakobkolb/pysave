{
 "cells": [
  {
   "cell_type": "code",
   "execution_count": null,
   "metadata": {
    "collapsed": true
   },
   "outputs": [],
   "source": [
    "import matplotlib.pyplot as plt\n",
    "from matplotlib import cm\n",
    "import numpy as np\n",
    "from matplotlib import colors, ticker\n",
    "from scipy.optimize import root, fsolve,brentq,minimize,fminbound\n",
    "%matplotlib inline\n",
    "import scipy.integrate as integrate\n",
    "u = np.linspace(1e-9, 1, 200) # savings rate\n",
    "taus = np.logspace(1, 3, 150)  # tau\n",
    "SS, T = np.meshgrid(u, taus)\n",
    "plt.rc('font', size=20)\n",
    "\n",
    "li= .01\n",
    "delta = 0.06\n",
    "\n",
    "def c_hat(s,tau):\n",
    "    a = np.exp(-tau*1.3*delta/2)\n",
    "    ss = ((a-1)/(a-2)) \n",
    "    rr = delta/(2*ss)\n",
    "    ww = ss/(2*delta)\n",
    "    k0= 0.03*ss*ss /(delta*delta)\n",
    "    D = rr - delta/s\n",
    "    \n",
    "    A = (rr*k0 + ww*li*rr/D ) *np.exp(s*D*tau)\n",
    "    B = ww*li*(1. - rr/D)\n",
    "    return (1. - s)* (A+B)\n",
    "\n",
    "def c_hat_neg(s):\n",
    "    return -c_hat(s,tau)\n",
    "\n",
    "Z=SS.copy()\n",
    "for a,tau in enumerate(taus):\n",
    "    for b, s in enumerate(u):\n",
    "        Z[a,b]= c_hat(s,tau)\n",
    "sroot=[]\n",
    "for tau in taus:\n",
    "    sroot.append(fminbound(c_hat_neg,1e-7,1., maxfun=40000,xtol=1e-12 ))\n",
    "Z2 = Z/Z.max(1)[:,None]\n",
    "Z2 = np.exp(50*Z2)\n",
    "\n",
    "\n",
    "fig,ax = plt.subplots()\n",
    "fig.set_size_inches((12,10))\n",
    "\n",
    "c = ax.contourf(T,SS, Z2,20, cmap='magma')# norm=colors.LogNorm(vmin=Z.min(),vmax=Z.max()))\n",
    "aa = np.exp(-taus*1.8*delta/2)\n",
    "ax.semilogx(taus, (aa-1)/(aa-2), 'g--',lw=2,label=r'$s^*$')\n",
    "\n",
    "ax.semilogx(taus, sroot, label=r'$s_i^*$',lw=2)\n",
    "plt.colorbar(c, label=r'$\\mathrm{exp}(50 \\cdot C_\\tau/\\mathrm{max}(C_\\tau))$')\n",
    "ax.legend(loc='upper left')\n",
    "ax.set_ylabel(r'$s_i$')\n",
    "ax.set_xlabel(r'$\\tau$')\n",
    "ax.set_aspect('auto')\n",
    "ax.set_xscale('log')\n",
    "#fig.savefig('freerider_si_k0_005.pdf')"
   ]
  }
 ],
 "metadata": {
  "kernelspec": {
   "display_name": "Python 2",
   "language": "python",
   "name": "env_full_kernel"
  },
  "language_info": {
   "codemirror_mode": {
    "name": "ipython",
    "version": 2
   },
   "file_extension": ".py",
   "mimetype": "text/x-python",
   "name": "python",
   "nbconvert_exporter": "python",
   "pygments_lexer": "ipython2",
   "version": "2.7.13"
  }
 },
 "nbformat": 4,
 "nbformat_minor": 2
}
