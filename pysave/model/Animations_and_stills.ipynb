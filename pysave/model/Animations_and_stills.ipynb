{
 "cells": [
  {
   "cell_type": "code",
   "execution_count": 1,
   "metadata": {
    "collapsed": true
   },
   "outputs": [],
   "source": [
    "import numpy as np\n",
    "import matplotlib.pyplot as plt\n",
    "import pandas as pd\n",
    "%matplotlib inline\n",
    "#trajectory3: delta = .40\n",
    "#trajectory1: delta = .05 \n",
    "#trajectory2: delta= .05, tau=5\n",
    "traj = np.load('trajs/trajectory_Ldist_tau500_phi01_eps01') # trajectory_Ldist_tau500_phi01_eps01\n",
    "delta=5\n",
    "tau=500\n",
    "N=100\n",
    "S = np.zeros(shape=(len(traj.index), N))\n",
    "K = np.zeros(shape=(len(traj.index), N))\n",
    "C = np.zeros(shape=(len(traj.index), N))\n",
    "W = np.zeros(shape=(len(traj.index), N))\n",
    "L = traj['P'][0]\n",
    "\n",
    "for a, t in enumerate(traj.index):\n",
    "    S[a,:] = traj['s'][t]\n",
    "    C[a,:] = traj['C'][t]\n",
    "    K[a,:] = traj['capital'][t]\n",
    "    W[a,:] = traj['wage'][t]\n",
    "        \n"
   ]
  },
  {
   "cell_type": "code",
   "execution_count": null,
   "metadata": {
    "collapsed": true
   },
   "outputs": [],
   "source": [
    "# animations\n",
    "import matplotlib.animation as animation\n",
    "from IPython.display import HTML\n",
    "plt.rcParams['animation.html'] = 'html5'\n",
    "import matplotlib.colors as colors\n",
    "import matplotlib.lines as mlines\n",
    "plt.rc('font', size=15)  \n",
    "\n",
    "n_agents = 100\n",
    "start, stop = n_points+31500, 33500\n",
    "fig, (ax,ax2) = plt.subplots(2,1,figsize=(9,9))\n",
    "#ax.set_prop_cycle(color= [plt.cm.spectral(k) for k in np.linspace(0,1,n_agents)])\n",
    "ax.set_xlim(( 0, 1))\n",
    "\n",
    "ax2.set_xlim((0,1))\n",
    "ax2.set_ylim((0,100))\n",
    "\n",
    "n_points=2\n",
    "\n",
    "dotted_line = mlines.Line2D([], [], color='k', ls='--', label=r'highest $C_i$')\n",
    "kidot = mlines.Line2D([], [], color='k', ls='-', label=r'$\\dot{K}_i=0$')\n",
    "\n",
    "def animate(i):\n",
    "    ax.clear()\n",
    "    ax.set_ylabel(r'Capital $K_i$')\n",
    "    ax.set_xlabel(r'Savings rate $s_i$')\n",
    "\n",
    "\n",
    "    ax.set_xlim(( 0, 1))\n",
    "    ax.set_ylim((K[start:stop,:n_agents].min(), K[start:stop,:n_agents].max() ))\n",
    "    ax.legend(handles=[dotted_line,kidot],loc = 'upper center')\n",
    "    for lnum in range(n_agents):\n",
    "        ax.plot(S[i+start-n_points:i+start,lnum],K[i+start-n_points:i+start,lnum],\n",
    "                    c=colors.rgb2hex(plt.cm.spectral((lnum+1.) / n_agents)[0:3]),\n",
    "                ls='--',marker='o')\n",
    "            #line.set_alpha([0.9,0.5])\n",
    "    ax.plot(np.arange(0,1,0.01), ((np.max(C[i+start,:])/(1.- np.arange(0,1,0.01))) - \\\n",
    "                                  traj['wage'].values[i+start]/100.) /\\\n",
    "                      (traj['r'].values[i+start]), c='k',ls='--')\n",
    "\n",
    "    ax.plot(np.arange(0,1,0.01), (traj['wage'].values[i+start]/N) / \\\n",
    "                      ( (delta/100.)/np.arange(0,1,0.01)  - traj['r'].values[i+start]),'k-')\n",
    "              \n",
    "\n",
    "    ax2.clear()   \n",
    "    ax2.set_xlabel(r'Savings rate $s_i$')\n",
    "\n",
    "    ax2.set_xlim(( 0, 1))\n",
    "    ax2.set_ylim((0,n_agents))\n",
    "    ax2.hist(S[i+start,:],bins=np.linspace(0,1,num=20))\n",
    "    \n",
    "lines=[]\n",
    "for k in range(n_agents+2):\n",
    "    lobj = ax.plot([],[],\n",
    "                  color=plt.cm.spectral((k+1.) / n_agents) )[0]\n",
    "    lines.append(lobj)\n",
    "    \n",
    "#x = S[start,:n_agents]\n",
    "#line, = ax.plot(x, K[start,:n_agents])\n",
    "#ax.set_yscale('log')\n",
    "\n",
    "\n",
    "\n",
    "#ax.legend([r'$\\dot{K}_i=0$'],loc = 'lower right')\n",
    "ani = animation.FuncAnimation(fig, animate, np.arange(0, stop-start),\n",
    "                              interval=50, blit=False)\n",
    "#HTML(ani.to_html5_video())\n",
    "#ani.save('Wippe_all_C.mp4')"
   ]
  },
  {
   "cell_type": "code",
   "execution_count": 15,
   "metadata": {},
   "outputs": [
    {
     "data": {
      "text/plain": [
       "3"
      ]
     },
     "execution_count": 15,
     "metadata": {},
     "output_type": "execute_result"
    }
   ],
   "source": [
    "a=[1,2,3]\n",
    "a[2]\n",
    "#a[1:2]"
   ]
  },
  {
   "cell_type": "code",
   "execution_count": 30,
   "metadata": {
    "scrolled": false
   },
   "outputs": [
    {
     "name": "stdout",
     "output_type": "stream",
     "text": [
      "62\n"
     ]
    },
    {
     "name": "stderr",
     "output_type": "stream",
     "text": [
      "/home/yuki/anaconda2/envs/env_full2/lib/python2.7/site-packages/ipykernel_launcher.py:42: RuntimeWarning: divide by zero encountered in divide\n"
     ]
    },
    {
     "name": "stdout",
     "output_type": "stream",
     "text": [
      "91\n",
      "29\n"
     ]
    }
   ],
   "source": [
    "# Make some still images.\n",
    "import matplotlib.lines as mlines\n",
    "import matplotlib.colors as colors\n",
    "from matplotlib import gridspec\n",
    "import warnings\n",
    "\n",
    "plt.rc('font', size=27)  \n",
    "\n",
    "n_agents = 100\n",
    "n_points=2\n",
    "\n",
    "start, stop = n_points, 4002\n",
    "_=0\n",
    "for i in np.arange(start,stop+1,(stop-start)/2):\n",
    "    fig,ax = plt.subplots(2,1,sharex=True)\n",
    "    fig.set_size_inches((10.5,7))\n",
    "    gs = gridspec.GridSpec(2, 1, height_ratios=[9./10.5,2/10.5], wspace=0.1)\n",
    "    #ax.set_prop_cycle(color= [plt.cm.spectral(k) for k in np.linspace(0,1,n_agents)])\n",
    "    ax=plt.subplot(gs[0])\n",
    "    ax.set_xlim(( 0, 1))\n",
    "\n",
    "    ax.set_ylim((0, np.max([K[i-n_points:i,:n_agents].max(),1.5] )))\n",
    "\n",
    "    dotted_line = mlines.Line2D([], [], color='k', ls='--', label=r'highest $C_i$')\n",
    "    kidot = mlines.Line2D([], [], color='k', ls='-', label=r'$\\dot{K}_i=0$')\n",
    "    ax.set_ylabel(r'Capital $K_i$')\n",
    "    ax.set_xlabel(r'Savings rate $s_i$')\n",
    "    ax.set_xlim(( 0, 1))\n",
    "    if _==0 :\n",
    "        ax.legend(handles=[dotted_line,kidot],loc = 'lower center')\n",
    "    else:\n",
    "        ax.legend(handles=[dotted_line,kidot],loc = 'upper center')\n",
    "    _+=1\n",
    "    \n",
    "    for lnum in range(n_agents):\n",
    "        ax.plot(S[i-n_points:i,lnum],K[i-n_points:i,lnum],\n",
    "                    c=colors.rgb2hex(plt.cm.spectral((lnum+1.) / n_agents)[0:3]),\n",
    "                ls='--',marker='o')\n",
    "            #line.set_alpha([0.9,0.5])\n",
    "    ax.plot(np.arange(0,1,0.0001), ((np.max(C[i,:])/(1.- np.arange(0,1,0.0001))) - \\\n",
    "                                  traj['wage'].values[i] * L[np.argmax(C[i,:])]) /\\\n",
    "                      (traj['r'].values[i]), c='k',ls='--')\n",
    "    print np.argmax(C[i,:])\n",
    "    ax.plot(np.arange(0,1,0.001), (traj['wage'].values[i]/N) / \\\n",
    "                      ( (delta/100.)/np.arange(0,1,0.001)  - traj['r'].values[i]),'k-')\n",
    "    ax2=plt.subplot(gs[1])   \n",
    "    ax2.set_xlabel(r'Savings rate $s_i$')\n",
    "    ax2.set_xlim(( 0, 1))\n",
    "    ax2.set_ylim((0,n_agents))\n",
    "    ax2.hist(S[i,:],bins=np.linspace(0,1,num=20))\n",
    "    with warnings.catch_warnings():\n",
    "        warnings.simplefilter(\"ignore\", UserWarning)\n",
    "        # This raises warnings since tight layout cannot\n",
    "        # handle gridspec automatically. We are going to\n",
    "        # do that manually so we can filter the warning.\n",
    "        gs.tight_layout(fig,rect=[0, None, None, None])\n",
    "    fig.savefig('tau500_fully_eps01_phi01_%s.pdf'%i)\n",
    "    plt.close('all')"
   ]
  }
 ],
 "metadata": {
  "kernelspec": {
   "display_name": "Python 2",
   "language": "python",
   "name": "env_full_kernel"
  },
  "language_info": {
   "codemirror_mode": {
    "name": "ipython",
    "version": 2
   },
   "file_extension": ".py",
   "mimetype": "text/x-python",
   "name": "python",
   "nbconvert_exporter": "python",
   "pygments_lexer": "ipython2",
   "version": "2.7.13"
  }
 },
 "nbformat": 4,
 "nbformat_minor": 2
}
